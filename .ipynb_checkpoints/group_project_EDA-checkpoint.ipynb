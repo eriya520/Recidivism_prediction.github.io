{
 "cells": [
  {
   "cell_type": "code",
   "execution_count": 23,
   "id": "de0da5a1-c7f9-4178-9275-f9bf8e01df52",
   "metadata": {},
   "outputs": [],
   "source": [
    "import pandas as pd\n",
    "import matplotlib.pyplot as plt\n",
    "import seaborn as sns\n",
    "import numpy as np"
   ]
  },
  {
   "cell_type": "code",
   "execution_count": 24,
   "id": "d32866a5-d60e-4a93-adaf-2dbbfc2aab53",
   "metadata": {},
   "outputs": [
    {
     "data": {
      "text/html": [
       "<div>\n",
       "<style scoped>\n",
       "    .dataframe tbody tr th:only-of-type {\n",
       "        vertical-align: middle;\n",
       "    }\n",
       "\n",
       "    .dataframe tbody tr th {\n",
       "        vertical-align: top;\n",
       "    }\n",
       "\n",
       "    .dataframe thead th {\n",
       "        text-align: right;\n",
       "    }\n",
       "</style>\n",
       "<table border=\"1\" class=\"dataframe\">\n",
       "  <thead>\n",
       "    <tr style=\"text-align: right;\">\n",
       "      <th></th>\n",
       "      <th>state</th>\n",
       "      <th>county</th>\n",
       "      <th>total_population_20</th>\n",
       "      <th>incarcerated_20</th>\n",
       "      <th>total_population_10</th>\n",
       "      <th>incarcerated_10</th>\n",
       "      <th>total_population_00</th>\n",
       "      <th>incarcerated_00</th>\n",
       "    </tr>\n",
       "  </thead>\n",
       "  <tbody>\n",
       "    <tr>\n",
       "      <th>0</th>\n",
       "      <td>MA</td>\n",
       "      <td>Barnstable County</td>\n",
       "      <td>228996</td>\n",
       "      <td>213</td>\n",
       "      <td>215888</td>\n",
       "      <td>438</td>\n",
       "      <td>222230</td>\n",
       "      <td>266</td>\n",
       "    </tr>\n",
       "    <tr>\n",
       "      <th>1</th>\n",
       "      <td>MA</td>\n",
       "      <td>Berkshire County</td>\n",
       "      <td>129026</td>\n",
       "      <td>188</td>\n",
       "      <td>131219</td>\n",
       "      <td>352</td>\n",
       "      <td>134953</td>\n",
       "      <td>279</td>\n",
       "    </tr>\n",
       "    <tr>\n",
       "      <th>2</th>\n",
       "      <td>MA</td>\n",
       "      <td>Bristol County</td>\n",
       "      <td>579200</td>\n",
       "      <td>885</td>\n",
       "      <td>548285</td>\n",
       "      <td>1318</td>\n",
       "      <td>534678</td>\n",
       "      <td>1058</td>\n",
       "    </tr>\n",
       "    <tr>\n",
       "      <th>3</th>\n",
       "      <td>MA</td>\n",
       "      <td>Dukes County</td>\n",
       "      <td>20600</td>\n",
       "      <td>15</td>\n",
       "      <td>16535</td>\n",
       "      <td>30</td>\n",
       "      <td>14987</td>\n",
       "      <td>34</td>\n",
       "    </tr>\n",
       "    <tr>\n",
       "      <th>4</th>\n",
       "      <td>MA</td>\n",
       "      <td>Essex County</td>\n",
       "      <td>809829</td>\n",
       "      <td>2118</td>\n",
       "      <td>743159</td>\n",
       "      <td>1431</td>\n",
       "      <td>723419</td>\n",
       "      <td>1574</td>\n",
       "    </tr>\n",
       "  </tbody>\n",
       "</table>\n",
       "</div>"
      ],
      "text/plain": [
       "  state             county  total_population_20  incarcerated_20  \\\n",
       "0    MA  Barnstable County               228996              213   \n",
       "1    MA   Berkshire County               129026              188   \n",
       "2    MA     Bristol County               579200              885   \n",
       "3    MA       Dukes County                20600               15   \n",
       "4    MA       Essex County               809829             2118   \n",
       "\n",
       "   total_population_10  incarcerated_10  total_population_00  incarcerated_00  \n",
       "0               215888              438               222230              266  \n",
       "1               131219              352               134953              279  \n",
       "2               548285             1318               534678             1058  \n",
       "3                16535               30                14987               34  \n",
       "4               743159             1431               723419             1574  "
      ]
     },
     "execution_count": 24,
     "metadata": {},
     "output_type": "execute_result"
    }
   ],
   "source": [
    "incarcerate=pd.read_csv('./datasets/census_incarceration_TMP.csv')\n",
    "incarcerate.drop(columns='FIPS', inplace=True)\n",
    "incarcerate.head()"
   ]
  },
  {
   "cell_type": "markdown",
   "id": "a63a5481-a2f3-4e3f-ba55-25c5ac2ad423",
   "metadata": {},
   "source": [
    "## Notice that 'LA' is in the list, and it is Los Angeles, even thought it is not a state but it is the most populous area in the US, you'll see why later\n",
    "* might need to combine it with CA after EDA, for now, let's keep it for fun"
   ]
  },
  {
   "cell_type": "code",
   "execution_count": 25,
   "id": "77d9e7ae-fcaf-42e1-bd67-79e591982bca",
   "metadata": {},
   "outputs": [
    {
     "data": {
      "text/plain": [
       "array(['MA', 'CT', 'WV', 'VT', 'RI', 'DC', 'PA', 'AR', 'OK', 'NE', 'ID',\n",
       "       'MO', 'LA', 'UT', 'AZ', 'SC', 'GA', 'TN', 'NY', 'MS', 'NM', 'IL',\n",
       "       'MI', 'ME', 'IN', 'NC', 'DE', 'TX', 'AL', 'CA', 'VA', 'SD', 'MT',\n",
       "       'NJ', 'HI', 'OH', 'MN', 'OR', 'ND', 'KY', 'NH', 'CO', 'WA', 'AK',\n",
       "       'WY', 'IA', 'WI', 'PR', 'FL', 'KS', 'NV', 'MD'], dtype=object)"
      ]
     },
     "execution_count": 25,
     "metadata": {},
     "output_type": "execute_result"
    }
   ],
   "source": [
    "#check unique state names, 'LA' stands out!\n",
    "incarcerate.state.unique()"
   ]
  },
  {
   "cell_type": "code",
   "execution_count": 26,
   "id": "f5ae3be4-8f09-4f1d-a241-6fe89604f426",
   "metadata": {},
   "outputs": [
    {
     "data": {
      "text/html": [
       "<div>\n",
       "<style scoped>\n",
       "    .dataframe tbody tr th:only-of-type {\n",
       "        vertical-align: middle;\n",
       "    }\n",
       "\n",
       "    .dataframe tbody tr th {\n",
       "        vertical-align: top;\n",
       "    }\n",
       "\n",
       "    .dataframe thead th {\n",
       "        text-align: right;\n",
       "    }\n",
       "</style>\n",
       "<table border=\"1\" class=\"dataframe\">\n",
       "  <thead>\n",
       "    <tr style=\"text-align: right;\">\n",
       "      <th></th>\n",
       "      <th>state</th>\n",
       "      <th>total_population_20</th>\n",
       "      <th>incarcerated_20</th>\n",
       "    </tr>\n",
       "  </thead>\n",
       "  <tbody>\n",
       "    <tr>\n",
       "      <th>0</th>\n",
       "      <td>AK</td>\n",
       "      <td>700421</td>\n",
       "      <td>4833</td>\n",
       "    </tr>\n",
       "    <tr>\n",
       "      <th>1</th>\n",
       "      <td>AL</td>\n",
       "      <td>5024279</td>\n",
       "      <td>39749</td>\n",
       "    </tr>\n",
       "    <tr>\n",
       "      <th>2</th>\n",
       "      <td>AR</td>\n",
       "      <td>3011524</td>\n",
       "      <td>27079</td>\n",
       "    </tr>\n",
       "    <tr>\n",
       "      <th>3</th>\n",
       "      <td>AZ</td>\n",
       "      <td>7151502</td>\n",
       "      <td>64154</td>\n",
       "    </tr>\n",
       "    <tr>\n",
       "      <th>4</th>\n",
       "      <td>CA</td>\n",
       "      <td>39538223</td>\n",
       "      <td>201570</td>\n",
       "    </tr>\n",
       "  </tbody>\n",
       "</table>\n",
       "</div>"
      ],
      "text/plain": [
       "  state  total_population_20  incarcerated_20\n",
       "0    AK               700421             4833\n",
       "1    AL              5024279            39749\n",
       "2    AR              3011524            27079\n",
       "3    AZ              7151502            64154\n",
       "4    CA             39538223           201570"
      ]
     },
     "execution_count": 26,
     "metadata": {},
     "output_type": "execute_result"
    }
   ],
   "source": [
    "#create a dataframe groupby 'state'\n",
    "incarcerate_20=incarcerate.groupby('state')[['total_population_20','incarcerated_20']].sum()\n",
    "incarcerate_20=incarcerate_20.reset_index()\n",
    "incarcerate_20.head()"
   ]
  },
  {
   "cell_type": "code",
   "execution_count": 28,
   "id": "5743b9f5-b8da-4833-aebf-2164fce462d1",
   "metadata": {},
   "outputs": [
    {
     "data": {
      "text/html": [
       "<div>\n",
       "<style scoped>\n",
       "    .dataframe tbody tr th:only-of-type {\n",
       "        vertical-align: middle;\n",
       "    }\n",
       "\n",
       "    .dataframe tbody tr th {\n",
       "        vertical-align: top;\n",
       "    }\n",
       "\n",
       "    .dataframe thead th {\n",
       "        text-align: right;\n",
       "    }\n",
       "</style>\n",
       "<table border=\"1\" class=\"dataframe\">\n",
       "  <thead>\n",
       "    <tr style=\"text-align: right;\">\n",
       "      <th></th>\n",
       "      <th>state</th>\n",
       "      <th>total_population_20</th>\n",
       "      <th>incarcerated_20</th>\n",
       "      <th>incarcerated_rate</th>\n",
       "    </tr>\n",
       "  </thead>\n",
       "  <tbody>\n",
       "    <tr>\n",
       "      <th>0</th>\n",
       "      <td>AK</td>\n",
       "      <td>700421</td>\n",
       "      <td>4833</td>\n",
       "      <td>0.006900</td>\n",
       "    </tr>\n",
       "    <tr>\n",
       "      <th>1</th>\n",
       "      <td>AL</td>\n",
       "      <td>5024279</td>\n",
       "      <td>39749</td>\n",
       "      <td>0.007911</td>\n",
       "    </tr>\n",
       "    <tr>\n",
       "      <th>2</th>\n",
       "      <td>AR</td>\n",
       "      <td>3011524</td>\n",
       "      <td>27079</td>\n",
       "      <td>0.008992</td>\n",
       "    </tr>\n",
       "    <tr>\n",
       "      <th>3</th>\n",
       "      <td>AZ</td>\n",
       "      <td>7151502</td>\n",
       "      <td>64154</td>\n",
       "      <td>0.008971</td>\n",
       "    </tr>\n",
       "    <tr>\n",
       "      <th>4</th>\n",
       "      <td>CA</td>\n",
       "      <td>39538223</td>\n",
       "      <td>201570</td>\n",
       "      <td>0.005098</td>\n",
       "    </tr>\n",
       "  </tbody>\n",
       "</table>\n",
       "</div>"
      ],
      "text/plain": [
       "  state  total_population_20  incarcerated_20  incarcerated_rate\n",
       "0    AK               700421             4833           0.006900\n",
       "1    AL              5024279            39749           0.007911\n",
       "2    AR              3011524            27079           0.008992\n",
       "3    AZ              7151502            64154           0.008971\n",
       "4    CA             39538223           201570           0.005098"
      ]
     },
     "execution_count": 28,
     "metadata": {},
     "output_type": "execute_result"
    }
   ],
   "source": [
    "#create a column with the incarcerated ratio (other words, normalized by total population)\n",
    "incarcerate_20['incarcerated_rate']=incarcerate_20.iloc[:,2]/incarcerate_20.iloc[:,1]\n",
    "incarcerate_20.head()"
   ]
  },
  {
   "cell_type": "markdown",
   "id": "c221a099-20d7-4f2f-89c9-4bc855069831",
   "metadata": {},
   "source": [
    "## When look at the top states with high incarcerated_ratio, it showed that LA with the most populous area has the highest incarcerated rate"
   ]
  },
  {
   "cell_type": "code",
   "execution_count": 29,
   "id": "ef067243-e181-4a53-b6c1-8a1ff1b04583",
   "metadata": {},
   "outputs": [
    {
     "data": {
      "text/html": [
       "<div>\n",
       "<style scoped>\n",
       "    .dataframe tbody tr th:only-of-type {\n",
       "        vertical-align: middle;\n",
       "    }\n",
       "\n",
       "    .dataframe tbody tr th {\n",
       "        vertical-align: top;\n",
       "    }\n",
       "\n",
       "    .dataframe thead th {\n",
       "        text-align: right;\n",
       "    }\n",
       "</style>\n",
       "<table border=\"1\" class=\"dataframe\">\n",
       "  <thead>\n",
       "    <tr style=\"text-align: right;\">\n",
       "      <th></th>\n",
       "      <th>state</th>\n",
       "      <th>total_population_20</th>\n",
       "      <th>incarcerated_20</th>\n",
       "      <th>incarcerated_rate</th>\n",
       "    </tr>\n",
       "  </thead>\n",
       "  <tbody>\n",
       "    <tr>\n",
       "      <th>18</th>\n",
       "      <td>LA</td>\n",
       "      <td>4657757</td>\n",
       "      <td>51241</td>\n",
       "      <td>0.011001</td>\n",
       "    </tr>\n",
       "    <tr>\n",
       "      <th>50</th>\n",
       "      <td>WV</td>\n",
       "      <td>1793716</td>\n",
       "      <td>19669</td>\n",
       "      <td>0.010966</td>\n",
       "    </tr>\n",
       "    <tr>\n",
       "      <th>25</th>\n",
       "      <td>MS</td>\n",
       "      <td>2961279</td>\n",
       "      <td>30745</td>\n",
       "      <td>0.010382</td>\n",
       "    </tr>\n",
       "    <tr>\n",
       "      <th>36</th>\n",
       "      <td>OK</td>\n",
       "      <td>3959353</td>\n",
       "      <td>38455</td>\n",
       "      <td>0.009712</td>\n",
       "    </tr>\n",
       "    <tr>\n",
       "      <th>2</th>\n",
       "      <td>AR</td>\n",
       "      <td>3011524</td>\n",
       "      <td>27079</td>\n",
       "      <td>0.008992</td>\n",
       "    </tr>\n",
       "  </tbody>\n",
       "</table>\n",
       "</div>"
      ],
      "text/plain": [
       "   state  total_population_20  incarcerated_20  incarcerated_rate\n",
       "18    LA              4657757            51241           0.011001\n",
       "50    WV              1793716            19669           0.010966\n",
       "25    MS              2961279            30745           0.010382\n",
       "36    OK              3959353            38455           0.009712\n",
       "2     AR              3011524            27079           0.008992"
      ]
     },
     "execution_count": 29,
     "metadata": {},
     "output_type": "execute_result"
    }
   ],
   "source": [
    "#look at the top 5 states/area with the highest incarcerated_rate\n",
    "incarcerate_20.sort_values(by=['incarcerated_rate', 'total_population_20'], ascending=[False, False]).head()"
   ]
  },
  {
   "cell_type": "markdown",
   "id": "71ff9d8d-aa49-4d7f-8e9d-519dbd4e712f",
   "metadata": {},
   "source": [
    "#### Paradise states do not have high incarcerated_Rate"
   ]
  },
  {
   "cell_type": "code",
   "execution_count": 44,
   "id": "836af52f-bab2-4da2-9643-c722a5006ea6",
   "metadata": {},
   "outputs": [
    {
     "data": {
      "text/html": [
       "<div>\n",
       "<style scoped>\n",
       "    .dataframe tbody tr th:only-of-type {\n",
       "        vertical-align: middle;\n",
       "    }\n",
       "\n",
       "    .dataframe tbody tr th {\n",
       "        vertical-align: top;\n",
       "    }\n",
       "\n",
       "    .dataframe thead th {\n",
       "        text-align: right;\n",
       "    }\n",
       "</style>\n",
       "<table border=\"1\" class=\"dataframe\">\n",
       "  <thead>\n",
       "    <tr style=\"text-align: right;\">\n",
       "      <th></th>\n",
       "      <th>state</th>\n",
       "      <th>total_population_20</th>\n",
       "      <th>incarcerated_20</th>\n",
       "      <th>incarcerated_rate</th>\n",
       "    </tr>\n",
       "  </thead>\n",
       "  <tbody>\n",
       "    <tr>\n",
       "      <th>40</th>\n",
       "      <td>RI</td>\n",
       "      <td>1097379</td>\n",
       "      <td>3082</td>\n",
       "      <td>0.002809</td>\n",
       "    </tr>\n",
       "    <tr>\n",
       "      <th>11</th>\n",
       "      <td>HI</td>\n",
       "      <td>1455271</td>\n",
       "      <td>3752</td>\n",
       "      <td>0.002578</td>\n",
       "    </tr>\n",
       "    <tr>\n",
       "      <th>19</th>\n",
       "      <td>MA</td>\n",
       "      <td>7029917</td>\n",
       "      <td>17969</td>\n",
       "      <td>0.002556</td>\n",
       "    </tr>\n",
       "    <tr>\n",
       "      <th>21</th>\n",
       "      <td>ME</td>\n",
       "      <td>1362359</td>\n",
       "      <td>3360</td>\n",
       "      <td>0.002466</td>\n",
       "    </tr>\n",
       "    <tr>\n",
       "      <th>47</th>\n",
       "      <td>VT</td>\n",
       "      <td>643077</td>\n",
       "      <td>1219</td>\n",
       "      <td>0.001896</td>\n",
       "    </tr>\n",
       "  </tbody>\n",
       "</table>\n",
       "</div>"
      ],
      "text/plain": [
       "   state  total_population_20  incarcerated_20  incarcerated_rate\n",
       "40    RI              1097379             3082           0.002809\n",
       "11    HI              1455271             3752           0.002578\n",
       "19    MA              7029917            17969           0.002556\n",
       "21    ME              1362359             3360           0.002466\n",
       "47    VT               643077             1219           0.001896"
      ]
     },
     "execution_count": 44,
     "metadata": {},
     "output_type": "execute_result"
    }
   ],
   "source": [
    "#look at the top 5 states with the lowest incarcerated_rate\n",
    "incarcerate_20.sort_values(by=['incarcerated_rate', 'total_population_20'], ascending=[False, False]).tail()"
   ]
  },
  {
   "cell_type": "markdown",
   "id": "921cedb2-db80-4c71-84fc-b0ad14c6009e",
   "metadata": {},
   "source": [
    "## check the correlation using pairplot"
   ]
  },
  {
   "cell_type": "code",
   "execution_count": 37,
   "id": "f76bc0c2-a048-4aa4-8ec1-6139869e662c",
   "metadata": {},
   "outputs": [
    {
     "data": {
      "image/png": "[encoded data removed]",
      "text/plain": [
       "<Figure size 540x540 with 9 Axes>"
      ]
     },
     "metadata": {
      "needs_background": "light"
     },
     "output_type": "display_data"
    }
   ],
   "source": [
    "sns.pairplot(incarcerate_20.iloc[:,1:], corner=True);"
   ]
  },
  {
   "cell_type": "markdown",
   "id": "bb42640f-a429-4ad7-afc6-33a9193f0b2f",
   "metadata": {},
   "source": [
    "## observations:\n",
    "* incarcerate population correlate linearly with total population\n",
    "* incarcerate rate does not have much correlation with any variables."
   ]
  },
  {
   "cell_type": "markdown",
   "id": "7628b125-ce01-4ebe-921f-9872a30958a7",
   "metadata": {},
   "source": [
    "### check which state with intermediate population but below mean incarcerated rate ---  NY and CA"
   ]
  },
  {
   "cell_type": "code",
   "execution_count": 42,
   "id": "9c6c9702-11e2-4c69-b212-2a8d387e7429",
   "metadata": {},
   "outputs": [
    {
     "data": {
      "text/html": [
       "<div>\n",
       "<style scoped>\n",
       "    .dataframe tbody tr th:only-of-type {\n",
       "        vertical-align: middle;\n",
       "    }\n",
       "\n",
       "    .dataframe tbody tr th {\n",
       "        vertical-align: top;\n",
       "    }\n",
       "\n",
       "    .dataframe thead th {\n",
       "        text-align: right;\n",
       "    }\n",
       "</style>\n",
       "<table border=\"1\" class=\"dataframe\">\n",
       "  <thead>\n",
       "    <tr style=\"text-align: right;\">\n",
       "      <th></th>\n",
       "      <th>state</th>\n",
       "      <th>total_population_20</th>\n",
       "      <th>incarcerated_20</th>\n",
       "      <th>incarcerated_rate</th>\n",
       "    </tr>\n",
       "  </thead>\n",
       "  <tbody>\n",
       "    <tr>\n",
       "      <th>4</th>\n",
       "      <td>CA</td>\n",
       "      <td>39538223</td>\n",
       "      <td>201570</td>\n",
       "      <td>0.005098</td>\n",
       "    </tr>\n",
       "    <tr>\n",
       "      <th>34</th>\n",
       "      <td>NY</td>\n",
       "      <td>20201249</td>\n",
       "      <td>62707</td>\n",
       "      <td>0.003104</td>\n",
       "    </tr>\n",
       "  </tbody>\n",
       "</table>\n",
       "</div>"
      ],
      "text/plain": [
       "   state  total_population_20  incarcerated_20  incarcerated_rate\n",
       "4     CA             39538223           201570           0.005098\n",
       "34    NY             20201249            62707           0.003104"
      ]
     },
     "execution_count": 42,
     "metadata": {},
     "output_type": "execute_result"
    }
   ],
   "source": [
    "incarcerate_20[(incarcerate_20['total_population_20']>1.8e7) & (incarcerate_20['incarcerated_rate']<0.006)]"
   ]
  },
  {
   "cell_type": "markdown",
   "id": "10dfe397-82ce-4dad-b216-26c24010c008",
   "metadata": {},
   "source": [
    "### check which state with intermediate population but above mean incarcerated rate ---  FL and TX"
   ]
  },
  {
   "cell_type": "code",
   "execution_count": 41,
   "id": "e7278eae-4bfd-4081-894c-58a82c2ab376",
   "metadata": {},
   "outputs": [
    {
     "data": {
      "text/html": [
       "<div>\n",
       "<style scoped>\n",
       "    .dataframe tbody tr th:only-of-type {\n",
       "        vertical-align: middle;\n",
       "    }\n",
       "\n",
       "    .dataframe tbody tr th {\n",
       "        vertical-align: top;\n",
       "    }\n",
       "\n",
       "    .dataframe thead th {\n",
       "        text-align: right;\n",
       "    }\n",
       "</style>\n",
       "<table border=\"1\" class=\"dataframe\">\n",
       "  <thead>\n",
       "    <tr style=\"text-align: right;\">\n",
       "      <th></th>\n",
       "      <th>state</th>\n",
       "      <th>total_population_20</th>\n",
       "      <th>incarcerated_20</th>\n",
       "      <th>incarcerated_rate</th>\n",
       "    </tr>\n",
       "  </thead>\n",
       "  <tbody>\n",
       "    <tr>\n",
       "      <th>9</th>\n",
       "      <td>FL</td>\n",
       "      <td>21538187</td>\n",
       "      <td>149333</td>\n",
       "      <td>0.006933</td>\n",
       "    </tr>\n",
       "    <tr>\n",
       "      <th>44</th>\n",
       "      <td>TX</td>\n",
       "      <td>29145505</td>\n",
       "      <td>248764</td>\n",
       "      <td>0.008535</td>\n",
       "    </tr>\n",
       "  </tbody>\n",
       "</table>\n",
       "</div>"
      ],
      "text/plain": [
       "   state  total_population_20  incarcerated_20  incarcerated_rate\n",
       "9     FL             21538187           149333           0.006933\n",
       "44    TX             29145505           248764           0.008535"
      ]
     },
     "execution_count": 41,
     "metadata": {},
     "output_type": "execute_result"
    }
   ],
   "source": [
    "incarcerate_20[(incarcerate_20['total_population_20']>1.8e7) & (incarcerate_20['incarcerated_rate']>0.006)]"
   ]
  },
  {
   "cell_type": "markdown",
   "id": "83de5d26-e262-433b-b1b1-0ac292a94ad7",
   "metadata": {},
   "source": [
    "### Interesting questions are:\n",
    "1. **how sufficient the correctional facilities in these state?** --Gaby can help to locate the data from 2019 on correctional facilities by states.\n",
    "2. **what is the distribution of crime type for the incarcerated rates at each state?** \n",
    "3. **is the mental health care sufficient?** ---after we have the data, we can explore further\n",
    "4. **is there any demographic preference in incarcerated rate?**"
   ]
  },
  {
   "cell_type": "code",
   "execution_count": null,
   "id": "1fedc67b-1a3c-44bd-8643-866ae802b22f",
   "metadata": {},
   "outputs": [],
   "source": []
  }
 ],
 "metadata": {
  "kernelspec": {
   "display_name": "Python 3",
   "language": "python",
   "name": "python3"
  },
  "language_info": {
   "codemirror_mode": {
    "name": "ipython",
    "version": 3
   },
   "file_extension": ".py",
   "mimetype": "text/x-python",
   "name": "python",
   "nbconvert_exporter": "python",
   "pygments_lexer": "ipython3",
   "version": "3.8.8"
  }
 },
 "nbformat": 4,
 "nbformat_minor": 5
}
